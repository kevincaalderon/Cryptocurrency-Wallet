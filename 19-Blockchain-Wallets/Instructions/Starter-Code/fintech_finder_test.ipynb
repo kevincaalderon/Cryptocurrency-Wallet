{
 "cells": [
  {
   "cell_type": "code",
   "execution_count": 1,
   "id": "29872e4b-c7b8-45a5-a74f-7fa848e65cd9",
   "metadata": {},
   "outputs": [
    {
     "name": "stderr",
     "output_type": "stream",
     "text": [
      "2022-07-09 13:57:06.313 INFO    numexpr.utils: NumExpr defaulting to 8 threads.\n"
     ]
    }
   ],
   "source": [
    "# Imports\n",
    "import streamlit as st\n",
    "from dataclasses import dataclass\n",
    "from typing import Any, List\n",
    "from web3 import Web3\n",
    "w3 = Web3(Web3.HTTPProvider('HTTP://127.0.0.1:7545'))"
   ]
  },
  {
   "cell_type": "code",
   "execution_count": 17,
   "id": "49b3b58e-30e8-4ca8-b041-33b02d846ef7",
   "metadata": {},
   "outputs": [],
   "source": [
    "from crypto_wallet import generate_account, get_balance, send_transaction\n",
    "\n",
    "################################################################################\n",
    "# Fintech Finder Candidate Information\n",
    "\n",
    "# Database of Fintech Finder candidates including their name, digital address, rating and hourly cost per Ether.\n",
    "# A single Ether is currently valued at $1,500\n",
    "candidate_database = {\n",
    "    \"Lane\": [\"Lane\", \"0xfd64A6ACF5D3A94E11A8107E6eAf9aD441bD0705\", \"4.3\", .20, \"/Users/kevincalderon/Desktop/Unify/UTOR-VIRT-FIN-PT-02-2022-U-LOL-main/Homeworks/19-Blockchain-Wallets/Instructions/Starter-Code/Images/lane.jpeg\"],\n",
    "    \"Ash\": [\"Ash\", \"0xDF68CE0b09c7D4778664Ae163203735c33516B2A\", \"5.0\", .33, \"/Users/kevincalderon/Desktop/Unify/UTOR-VIRT-FIN-PT-02-2022-U-LOL-main/Homeworks/19-Blockchain-Wallets/Instructions/Starter-Code/Images/ash.jpeg\"],\n",
    "    \"Jo\": [\"Jo\", \"0xe92DF1DEF63260c98a1203298D9236e25AcfCC46\", \"4.7\", .19, \"/Users/kevincalderon/Desktop/Unify/UTOR-VIRT-FIN-PT-02-2022-U-LOL-main/Homeworks/19-Blockchain-Wallets/Instructions/Starter-Code/Images/jo.jpeg\"],\n",
    "    \"Kendall\": [\"Kendall\", \"0xb09d87f01797968478ed091b9D23De5c7f65AEb5\", \"4.1\", .16, \"/Users/kevincalderon/Desktop/Unify/UTOR-VIRT-FIN-PT-02-2022-U-LOL-main/Homeworks/19-Blockchain-Wallets/Instructions/Starter-Code/Images/kendall.jpeg\"]\n",
    "}"
   ]
  },
  {
   "cell_type": "code",
   "execution_count": 18,
   "id": "1e967211-f3e0-4dcb-9a60-cb9710886bd7",
   "metadata": {},
   "outputs": [],
   "source": [
    "# A list of the FinTech Finder candidates first names\n",
    "people = [\"Lane\", \"Ash\", \"Jo\", \"Kendall\"]"
   ]
  },
  {
   "cell_type": "code",
   "execution_count": 21,
   "id": "a0b8474b-c5b6-483e-84e1-c6991d871ad9",
   "metadata": {},
   "outputs": [],
   "source": [
    "def get_people():\n",
    "    \"\"\"Display the database of Fintech Finders candidate information.\"\"\"\n",
    "    db_list = list(candidate_database.values())\n",
    "\n",
    "    for number in range(len(people)):\n",
    "        st.image(db_list[number][4], width=200)\n",
    "        st.write(\"Name: \", db_list[number][0])\n",
    "        st.write(\"Ethereum Account Address: \", db_list[number][1])\n",
    "        st.write(\"FinTech Finder Rating: \", db_list[number][2])\n",
    "        st.write(\"Hourly Rate per Ether: \", db_list[number][3], \"eth\")\n",
    "        st.text(\" \\n\")"
   ]
  },
  {
   "cell_type": "code",
   "execution_count": 15,
   "id": "d512fb6d-9c94-4253-8c10-af3c1b9043b5",
   "metadata": {},
   "outputs": [
    {
     "data": {
      "text/plain": [
       "DeltaGenerator(_root_container=1, _provided_cursor=None, _parent=DeltaGenerator(_root_container=0, _provided_cursor=None, _parent=None, _block_type=None, _form_data=None), _block_type=None, _form_data=None)"
      ]
     },
     "execution_count": 15,
     "metadata": {},
     "output_type": "execute_result"
    }
   ],
   "source": [
    "#Streamlit Code\n",
    "\n",
    "# Streamlit application headings\n",
    "st.markdown(\"# Fintech Finder!\")\n",
    "st.markdown(\"## Hire A Fintech Professional!\")\n",
    "st.text(\" \\n\")\n",
    "\n",
    "# Streamlit Sidebar Code - Start\n",
    "\n",
    "st.sidebar.markdown(\"## Client Account Address and Ethernet Balance in Ether\")\n"
   ]
  },
  {
   "cell_type": "code",
   "execution_count": 24,
   "id": "299171d7-1d22-4ff6-9e8e-6f914041f41a",
   "metadata": {},
   "outputs": [],
   "source": [
    "#  Call the `generate_account` function and save it as the variable `account`\n",
    "account = generate_account()"
   ]
  },
  {
   "cell_type": "code",
   "execution_count": 25,
   "id": "0d70eedb-ea73-453b-9e9e-3bddabcf2323",
   "metadata": {},
   "outputs": [],
   "source": [
    "# Write the client's Ethereum account address to the sidebar\n",
    "st.sidebar.write(account.address)\n",
    "\n",
    "# Call `get_balance` function and pass it your account address\n",
    "# Write the returned ether balance to the sidebar\n",
    "st.sidebar.write(get_balance(w3, account.address))"
   ]
  },
  {
   "cell_type": "code",
   "execution_count": 26,
   "id": "dcf73b3a-eb71-41f0-b2f8-ecbfc2a3f139",
   "metadata": {},
   "outputs": [
    {
     "data": {
      "text/plain": [
       "DeltaGenerator(_root_container=1, _provided_cursor=None, _parent=DeltaGenerator(_root_container=0, _provided_cursor=None, _parent=None, _block_type=None, _form_data=None), _block_type=None, _form_data=None)"
      ]
     },
     "execution_count": 26,
     "metadata": {},
     "output_type": "execute_result"
    }
   ],
   "source": [
    "# Create a select box to chose a FinTech Hire candidate\n",
    "person = st.sidebar.selectbox('Select a Person', people)\n",
    "\n",
    "# Create a input field to record the number of hours the candidate worked\n",
    "hours = st.sidebar.number_input(\"Number of Hours\")\n",
    "\n",
    "st.sidebar.markdown(\"## Candidate Name, Hourly Rate, and Ethereum Address\")"
   ]
  },
  {
   "cell_type": "code",
   "execution_count": 27,
   "id": "d05fc708-2b3d-4c8f-8c74-32664e169741",
   "metadata": {},
   "outputs": [
    {
     "data": {
      "text/plain": [
       "DeltaGenerator(_root_container=1, _provided_cursor=None, _parent=DeltaGenerator(_root_container=0, _provided_cursor=None, _parent=None, _block_type=None, _form_data=None), _block_type=None, _form_data=None)"
      ]
     },
     "execution_count": 27,
     "metadata": {},
     "output_type": "execute_result"
    }
   ],
   "source": [
    "# Identify the FinTech Hire candidate\n",
    "candidate = candidate_database[person][0]\n",
    "\n",
    "# Write the Fintech Finder candidate's name to the sidebar\n",
    "st.sidebar.write(candidate)\n",
    "\n",
    "# Identify the FinTech Finder candidate's hourly rate\n",
    "hourly_rate = candidate_database[person][3]\n",
    "\n",
    "# Write the inTech Finder candidate's hourly rate to the sidebar\n",
    "st.sidebar.write(hourly_rate)\n",
    "\n",
    "# Identify the FinTech Finder candidate's Ethereum Address\n",
    "candidate_address = candidate_database[person][1]\n",
    "\n",
    "# Write the inTech Finder candidate's Ethereum Address to the sidebar\n",
    "st.sidebar.write(candidate_address)\n",
    "\n",
    "# Write the Fintech Finder candidate's name to the sidebar\n",
    "\n",
    "st.sidebar.markdown(\"## Total Wage in Ether\")"
   ]
  },
  {
   "cell_type": "code",
   "execution_count": 28,
   "id": "285321b6-4234-42f7-898c-40988a50bc03",
   "metadata": {},
   "outputs": [],
   "source": [
    "# @TODO\n",
    "# Calculate total `wage` for the candidate by multiplying the candidate’s hourly\n",
    "# rate from the candidate database (`candidate_database[person][3]`) by the\n",
    "# value of the `hours` variable\n",
    "wage  = candidate_database[person][3] * hours\n",
    "\n",
    "# @TODO\n",
    "# Write the `wage` calculation to the Streamlit sidebar\n",
    "st.sidebar.write(wage)\n",
    "\n",
    "##########################################\n",
    "# Step 2 - Part 2:\n",
    "# * Call the `send_transaction` function and pass it three parameters:\n",
    "    # - Your Ethereum `account` information. (Remember that this `account`\n",
    "    # instance was created when the `generate_account` function was called.)\n",
    "    #  From the `account` instance, the application will be able to access the\n",
    "    #  `account.address` information that is needed to populate the `from` data\n",
    "    # attribute in the raw transaction.\n",
    "    #- The `candidate_address` (which will be created and identified in the\n",
    "    # sidebar when a customer selects a candidate). This will populate the `to`\n",
    "    # data attribute in the raw transaction.\n",
    "    # - The `wage` value. This will be passed to the `toWei` function to\n",
    "    # determine the wei value of the payment in the raw transaction.\n",
    "\n",
    "# * Save the transaction hash that the `send_transaction` function returns as a\n",
    "# variable named `transaction_hash`, and have it display on the application’s\n",
    "# web interface.\n",
    "\n",
    "\n",
    "if st.sidebar.button(\"Send Transaction\"):\n",
    "\n",
    "    # @TODO\n",
    "    # Call the `send_transaction` function and pass it 3 parameters:\n",
    "    # Your `account`, the `candidate_address`, and the `wage` as parameters\n",
    "    # Save the returned transaction hash as a variable named `transaction_hash`\n",
    "    transaction_hash = send_transaction(w3, account, candidate_address, wage)\n",
    "\n",
    "    # Markdown for the transaction hash\n",
    "    st.sidebar.markdown(\"#### Validated Transaction Hash\")\n",
    "\n",
    "    # Write the returned transaction hash to the screen\n",
    "    st.sidebar.write(transaction_hash)\n",
    "\n",
    "    # Celebrate your successful payment\n",
    "    st.balloons()"
   ]
  },
  {
   "cell_type": "code",
   "execution_count": 29,
   "id": "8b757133-a36c-4657-a1d0-3faf7cc2397f",
   "metadata": {},
   "outputs": [],
   "source": [
    "# The function that starts the Streamlit application\n",
    "# Writes FinTech Finder candidates to the Streamlit page\n",
    "get_people()"
   ]
  }
 ],
 "metadata": {
  "kernelspec": {
   "display_name": "Python 3 (ipykernel)",
   "language": "python",
   "name": "python3"
  },
  "language_info": {
   "codemirror_mode": {
    "name": "ipython",
    "version": 3
   },
   "file_extension": ".py",
   "mimetype": "text/x-python",
   "name": "python",
   "nbconvert_exporter": "python",
   "pygments_lexer": "ipython3",
   "version": "3.7.13"
  }
 },
 "nbformat": 4,
 "nbformat_minor": 5
}
